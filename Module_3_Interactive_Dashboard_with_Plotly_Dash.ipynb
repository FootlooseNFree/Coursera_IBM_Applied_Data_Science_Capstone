{
  "nbformat": 4,
  "nbformat_minor": 0,
  "metadata": {
    "colab": {
      "provenance": []
    },
    "kernelspec": {
      "name": "python3",
      "display_name": "Python 3"
    },
    "language_info": {
      "name": "python"
    }
  },
  "cells": [
    {
      "cell_type": "markdown",
      "source": [
        "### Install and import the dependencies"
      ],
      "metadata": {
        "id": "j4Iu-MQSbSAK"
      }
    },
    {
      "cell_type": "code",
      "execution_count": 1,
      "metadata": {
        "id": "HrjEnER7wlvs",
        "colab": {
          "base_uri": "https://localhost:8080/"
        },
        "outputId": "f6577528-8361-4c81-f970-12184552979a"
      },
      "outputs": [
        {
          "output_type": "stream",
          "name": "stdout",
          "text": [
            "\u001b[?25l   \u001b[90m━━━━━━━━━━━━━━━━━━━━━━━━━━━━━━━━━━━━━━━━\u001b[0m \u001b[32m0.0/7.9 MB\u001b[0m \u001b[31m?\u001b[0m eta \u001b[36m-:--:--\u001b[0m\r\u001b[2K   \u001b[91m━\u001b[0m\u001b[91m╸\u001b[0m\u001b[90m━━━━━━━━━━━━━━━━━━━━━━━━━━━━━━━━━━━━━━\u001b[0m \u001b[32m0.3/7.9 MB\u001b[0m \u001b[31m9.1 MB/s\u001b[0m eta \u001b[36m0:00:01\u001b[0m\r\u001b[2K   \u001b[91m━━━━━━━━━━━\u001b[0m\u001b[91m╸\u001b[0m\u001b[90m━━━━━━━━━━━━━━━━━━━━━━━━━━━━\u001b[0m \u001b[32m2.4/7.9 MB\u001b[0m \u001b[31m34.7 MB/s\u001b[0m eta \u001b[36m0:00:01\u001b[0m\r\u001b[2K   \u001b[91m━━━━━━━━━━━━━━━━━━━━━━━━━━━━━━━━━━━━━━━\u001b[0m\u001b[91m╸\u001b[0m \u001b[32m7.9/7.9 MB\u001b[0m \u001b[31m81.6 MB/s\u001b[0m eta \u001b[36m0:00:01\u001b[0m\r\u001b[2K   \u001b[90m━━━━━━━━━━━━━━━━━━━━━━━━━━━━━━━━━━━━━━━━\u001b[0m \u001b[32m7.9/7.9 MB\u001b[0m \u001b[31m58.7 MB/s\u001b[0m eta \u001b[36m0:00:00\u001b[0m\n",
            "\u001b[?25h"
          ]
        }
      ],
      "source": [
        "!pip install -q dash"
      ]
    },
    {
      "cell_type": "code",
      "source": [
        "# Import required libraries\n",
        "import pandas as pd\n",
        "import dash\n",
        "from dash import html\n",
        "from dash import dcc\n",
        "from dash.dependencies import Input, Output\n",
        "import plotly.express as px\n",
        "\n",
        "csv_path = 'https://cf-courses-data.s3.us.cloud-object-storage.appdomain.cloud/IBM-DS0321EN-SkillsNetwork/datasets/spacex_launch_dash.csv'\n",
        "\n",
        "# Read the airline data into pandas dataframe\n",
        "spacex_df = pd.read_csv(csv_path)\n",
        "max_payload = spacex_df['Payload Mass (kg)'].max()\n",
        "min_payload = spacex_df['Payload Mass (kg)'].min()\n",
        "\n",
        "# Create a dash application\n",
        "app = dash.Dash(__name__)\n",
        "\n",
        "# Create an app layout\n",
        "app.layout = html.Div(children=[html.H1('SpaceX Launch Records Dashboard',\n",
        "                                        style={'textAlign': 'center', 'color': '#503D36',\n",
        "                                               'font-size': 40}),\n",
        "                                # TASK 1: Add a dropdown list to enable Launch Site selection\n",
        "                                # The default select value is for ALL sites\n",
        "                                html.Div(dcc.Dropdown(id='site-dropdown',\n",
        "                                             options=[\n",
        "                                                 {'label': 'All Sites', 'value': 'ALL'},\n",
        "                                                 {'label': 'CCAFS LC-40', 'value': 'CCAFS LC-40'},\n",
        "                                                 {'label': 'CCAFS SLC-40', 'value': 'CCAFS SLC-40'},\n",
        "                                                 {'label': 'KSC LC-39A', 'value': 'KSC LC-39A'},\n",
        "                                                 {'label': 'VAFB SLC-4E', 'value': 'VAFB SLC-4E'},\n",
        "                                             ],\n",
        "                                             value='ALL',\n",
        "                                             placeholder=\"Select a launch site here\",\n",
        "                                             searchable=True)),\n",
        "                                html.Br(),\n",
        "\n",
        "                                # TASK 2: Add a pie chart to show the total successful launches count for all sites\n",
        "                                # If a specific launch site was selected, show the Success vs. Failed counts for the site\n",
        "                                html.Div(dcc.Graph(id='success-pie-chart'), style={'width' : '65%'}),\n",
        "                                html.Br(),\n",
        "\n",
        "                                html.P(\"Payload range (Kg):\"),\n",
        "                                # TASK 3: Add a slider to select payload range\n",
        "                                html.Div(dcc.RangeSlider(id='payload-slider',\n",
        "                                                min=0,\n",
        "                                                max=10000,\n",
        "                                                step=1000,\n",
        "                                                marks={0: '0',\n",
        "                                                       10000: '10000'},\n",
        "                                                value=[min_payload, max_payload])),\n",
        "\n",
        "                                # TASK 4: Add a scatter chart to show the correlation between payload and launch success\n",
        "                                html.Div(dcc.Graph(id='success-payload-scatter-chart'), style={'width' : '90%'}),\n",
        "                                ])\n",
        "\n",
        "# TASK 2:\n",
        "# Add a callback function for `site-dropdown` as input, `success-pie-chart` as output\n",
        "@app.callback(Output(component_id='success-pie-chart', component_property='figure'),\n",
        "              Input(component_id='site-dropdown', component_property='value'))\n",
        "def get_pie_chart(entered_site):\n",
        "    filtered_df = spacex_df\n",
        "    if entered_site == 'ALL':\n",
        "        fig = px.pie(filtered_df, values='class',\n",
        "        names='Launch Site',\n",
        "        title='Total Success Launches By Site')\n",
        "        return fig\n",
        "    else:\n",
        "        filtered_df = spacex_df[spacex_df['Launch Site'] == entered_site].groupby(['Launch Site', 'class']).size().reset_index(name='class count')\n",
        "        fig = px.pie(filtered_df, values='class count',\n",
        "        names='class',\n",
        "        title=f'Total Success Launches for site {entered_site}')\n",
        "        return fig\n",
        "\n",
        "# TASK 4:\n",
        "# Add a callback function for `site-dropdown` and `payload-slider` as inputs, `success-payload-scatter-chart` as output\n",
        "@app.callback(Output(component_id='success-payload-scatter-chart', component_property='figure'),\n",
        "              [Input(component_id='site-dropdown', component_property='value'),\n",
        "              Input(component_id=\"payload-slider\", component_property=\"value\")])\n",
        "def get_scatter_chart(entered_site, slider_range):\n",
        "    low, high = slider_range\n",
        "    mask = (spacex_df['Payload Mass (kg)'] > low) & (spacex_df['Payload Mass (kg)'] < high)\n",
        "    filtered_df = spacex_df[mask]\n",
        "    if entered_site == 'ALL':\n",
        "        fig = px.scatter(filtered_df, x='Payload Mass (kg)', y='class',\n",
        "        color='Booster Version Category',\n",
        "        title='Correlation between Payload and Success for all Sites')\n",
        "        return fig\n",
        "    else:\n",
        "        filtered_df = filtered_df[filtered_df['Launch Site'] == entered_site]\n",
        "        fig = px.scatter(filtered_df, x='Payload Mass (kg)', y='class',\n",
        "        color='Booster Version Category',\n",
        "        title=f'Correlation between Payload and Success for site {entered_site}')\n",
        "        return fig\n",
        "\n",
        "\n",
        "# Run the app\n",
        "if __name__ == '__main__':\n",
        "    app.run(mode='inline')\n"
      ],
      "metadata": {
        "colab": {
          "base_uri": "https://localhost:8080/",
          "height": 672
        },
        "id": "hv6NCg8bi5Sz",
        "outputId": "30a82950-3d40-42e4-f17c-1117ea7e3f6e"
      },
      "execution_count": 21,
      "outputs": [
        {
          "output_type": "display_data",
          "data": {
            "text/plain": [
              "<IPython.core.display.Javascript object>"
            ],
            "application/javascript": [
              "(async (port, path, width, height, cache, element) => {\n",
              "    if (!google.colab.kernel.accessAllowed && !cache) {\n",
              "      return;\n",
              "    }\n",
              "    element.appendChild(document.createTextNode(''));\n",
              "    const url = await google.colab.kernel.proxyPort(port, {cache});\n",
              "    const iframe = document.createElement('iframe');\n",
              "    iframe.src = new URL(path, url).toString();\n",
              "    iframe.height = height;\n",
              "    iframe.width = width;\n",
              "    iframe.style.border = 0;\n",
              "    iframe.allow = [\n",
              "        'accelerometer',\n",
              "        'autoplay',\n",
              "        'camera',\n",
              "        'clipboard-read',\n",
              "        'clipboard-write',\n",
              "        'gyroscope',\n",
              "        'magnetometer',\n",
              "        'microphone',\n",
              "        'serial',\n",
              "        'usb',\n",
              "        'xr-spatial-tracking',\n",
              "    ].join('; ');\n",
              "    element.appendChild(iframe);\n",
              "  })(8050, \"/\", \"100%\", 650, false, window.element)"
            ]
          },
          "metadata": {}
        }
      ]
    }
  ]
}